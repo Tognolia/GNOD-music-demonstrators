{
 "cells": [
  {
   "cell_type": "markdown",
   "id": "incomplete-gnome",
   "metadata": {},
   "source": [
    "#### For today lab we need to create a function that checkif the song belong to the top 100 song"
   ]
  },
  {
   "cell_type": "code",
   "execution_count": 13,
   "id": "weird-winter",
   "metadata": {},
   "outputs": [],
   "source": [
    "import pandas as pd\n",
    "import bs4\n",
    "from bs4 import BeautifulSoup \n",
    "import requests"
   ]
  },
  {
   "cell_type": "code",
   "execution_count": 7,
   "id": "graduate-syndicate",
   "metadata": {},
   "outputs": [
    {
     "data": {
      "text/html": [
       "<div>\n",
       "<style scoped>\n",
       "    .dataframe tbody tr th:only-of-type {\n",
       "        vertical-align: middle;\n",
       "    }\n",
       "\n",
       "    .dataframe tbody tr th {\n",
       "        vertical-align: top;\n",
       "    }\n",
       "\n",
       "    .dataframe thead th {\n",
       "        text-align: right;\n",
       "    }\n",
       "</style>\n",
       "<table border=\"1\" class=\"dataframe\">\n",
       "  <thead>\n",
       "    <tr style=\"text-align: right;\">\n",
       "      <th></th>\n",
       "      <th>Rank</th>\n",
       "      <th>Artists</th>\n",
       "      <th>Song</th>\n",
       "    </tr>\n",
       "  </thead>\n",
       "  <tbody>\n",
       "    <tr>\n",
       "      <th>0</th>\n",
       "      <td>1</td>\n",
       "      <td>Polo G</td>\n",
       "      <td>Rapstar</td>\n",
       "    </tr>\n",
       "    <tr>\n",
       "      <th>1</th>\n",
       "      <td>2</td>\n",
       "      <td>Silk Sonic (Bruno Mars &amp; Anderson .Paak)</td>\n",
       "      <td>Leave The Door Open</td>\n",
       "    </tr>\n",
       "    <tr>\n",
       "      <th>2</th>\n",
       "      <td>3</td>\n",
       "      <td>Justin Bieber Featuring Daniel Caesar &amp; Giveon</td>\n",
       "      <td>Peaches</td>\n",
       "    </tr>\n",
       "    <tr>\n",
       "      <th>3</th>\n",
       "      <td>4</td>\n",
       "      <td>Lil Nas X</td>\n",
       "      <td>Montero (Call Me By Your Name)</td>\n",
       "    </tr>\n",
       "    <tr>\n",
       "      <th>4</th>\n",
       "      <td>5</td>\n",
       "      <td>Dua Lipa Featuring DaBaby</td>\n",
       "      <td>Levitating</td>\n",
       "    </tr>\n",
       "    <tr>\n",
       "      <th>...</th>\n",
       "      <td>...</td>\n",
       "      <td>...</td>\n",
       "      <td>...</td>\n",
       "    </tr>\n",
       "    <tr>\n",
       "      <th>95</th>\n",
       "      <td>96</td>\n",
       "      <td>Moneybagg Yo Featuring BIG30</td>\n",
       "      <td>Go!</td>\n",
       "    </tr>\n",
       "    <tr>\n",
       "      <th>96</th>\n",
       "      <td>97</td>\n",
       "      <td>Future &amp; Lil Uzi Vert</td>\n",
       "      <td>Drankin N Smokin</td>\n",
       "    </tr>\n",
       "    <tr>\n",
       "      <th>97</th>\n",
       "      <td>98</td>\n",
       "      <td>All Time Low Featuring Demi Lovato &amp; blackbear</td>\n",
       "      <td>Monsters</td>\n",
       "    </tr>\n",
       "    <tr>\n",
       "      <th>98</th>\n",
       "      <td>99</td>\n",
       "      <td>Young Thug &amp; Gunna Featuring Yak Gotti &amp; Lil Duke</td>\n",
       "      <td>Slatty</td>\n",
       "    </tr>\n",
       "    <tr>\n",
       "      <th>99</th>\n",
       "      <td>100</td>\n",
       "      <td>42 Dugg &amp; Roddy Ricch</td>\n",
       "      <td>4 Da Gang</td>\n",
       "    </tr>\n",
       "  </tbody>\n",
       "</table>\n",
       "<p>100 rows × 3 columns</p>\n",
       "</div>"
      ],
      "text/plain": [
       "    Rank                                            Artists  \\\n",
       "0      1                                             Polo G   \n",
       "1      2           Silk Sonic (Bruno Mars & Anderson .Paak)   \n",
       "2      3     Justin Bieber Featuring Daniel Caesar & Giveon   \n",
       "3      4                                          Lil Nas X   \n",
       "4      5                          Dua Lipa Featuring DaBaby   \n",
       "..   ...                                                ...   \n",
       "95    96                       Moneybagg Yo Featuring BIG30   \n",
       "96    97                              Future & Lil Uzi Vert   \n",
       "97    98    All Time Low Featuring Demi Lovato & blackbear    \n",
       "98    99  Young Thug & Gunna Featuring Yak Gotti & Lil Duke   \n",
       "99   100                              42 Dugg & Roddy Ricch   \n",
       "\n",
       "                              Song  \n",
       "0                          Rapstar  \n",
       "1              Leave The Door Open  \n",
       "2                          Peaches  \n",
       "3   Montero (Call Me By Your Name)  \n",
       "4                       Levitating  \n",
       "..                             ...  \n",
       "95                             Go!  \n",
       "96                Drankin N Smokin  \n",
       "97                        Monsters  \n",
       "98                          Slatty  \n",
       "99                       4 Da Gang  \n",
       "\n",
       "[100 rows x 3 columns]"
      ]
     },
     "execution_count": 7,
     "metadata": {},
     "output_type": "execute_result"
    }
   ],
   "source": [
    "df = pd.read_csv('billboard_scraping.csv')\n",
    "df\n"
   ]
  },
  {
   "cell_type": "code",
   "execution_count": 22,
   "id": "premium-aruba",
   "metadata": {},
   "outputs": [
    {
     "data": {
      "text/plain": [
       "\"Breaking Up Was Easy In The 90's\""
      ]
     },
     "execution_count": 22,
     "metadata": {},
     "output_type": "execute_result"
    }
   ],
   "source": [
    "#testing the random selector\n",
    "import random\n",
    "random.choice(df['Song'])"
   ]
  },
  {
   "cell_type": "markdown",
   "id": "descending-gospel",
   "metadata": {},
   "source": [
    "### User experience\n",
    "1. song not in list\n",
    "2. title appears multiple times\n",
    "3. invalid inputs (typos,empty)\n",
    "### Architecture\n",
    "* user interaction in the same notbeook with \n",
    "* how many time do I want my scraper to run? \n",
    "### Logic\n",
    "* which song to reccomend?\n",
    "### Testing \n",
    "* does it work with other people?"
   ]
  },
  {
   "cell_type": "code",
   "execution_count": null,
   "id": "monetary-saudi",
   "metadata": {},
   "outputs": [],
   "source": [
    "# imports random\n",
    "# return random reccomandation\n",
    "\n",
    "#we turn everything lower to avoid weakness in the code\n",
    "df['Song']=df['Song'].str.lower()\n",
    "\n",
    "# Also the input will be turned into \n",
    "song = str(input('name a Song!')).lower()\n",
    "\n",
    "\n",
    "if song in list(df['Song']):\n",
    "     print('I reccomend you to listen to: ' + random.choice(df['Song']))\n",
    "else:\n",
    "     print('No reccomandation, sorry')"
   ]
  },
  {
   "cell_type": "code",
   "execution_count": 51,
   "id": "christian-painting",
   "metadata": {},
   "outputs": [
    {
     "ename": "SyntaxError",
     "evalue": "invalid syntax (<ipython-input-51-7bce90fdefb9>, line 3)",
     "output_type": "error",
     "traceback": [
      "\u001b[0;36m  File \u001b[0;32m\"<ipython-input-51-7bce90fdefb9>\"\u001b[0;36m, line \u001b[0;32m3\u001b[0m\n\u001b[0;31m    reccmandation= [print random.choice(list(df['Song'])) if song in list(df['Song']) else print \"No reccomandation, sorry\"]\u001b[0m\n\u001b[0m                          ^\u001b[0m\n\u001b[0;31mSyntaxError\u001b[0m\u001b[0;31m:\u001b[0m invalid syntax\n"
     ]
    }
   ],
   "source": []
  },
  {
   "cell_type": "code",
   "execution_count": null,
   "id": "opposed-conservation",
   "metadata": {},
   "outputs": [],
   "source": []
  }
 ],
 "metadata": {
  "kernelspec": {
   "display_name": "Python 3",
   "language": "python",
   "name": "python3"
  },
  "language_info": {
   "codemirror_mode": {
    "name": "ipython",
    "version": 3
   },
   "file_extension": ".py",
   "mimetype": "text/x-python",
   "name": "python",
   "nbconvert_exporter": "python",
   "pygments_lexer": "ipython3",
   "version": "3.9.2"
  }
 },
 "nbformat": 4,
 "nbformat_minor": 5
}
